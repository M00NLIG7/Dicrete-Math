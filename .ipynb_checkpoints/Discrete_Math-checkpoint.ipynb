{
 "cells": [
  {
   "cell_type": "markdown",
   "metadata": {},
   "source": [
    "# PIE (The principal of inclusion and exclusion):\n",
    "$n(A\\cup B)=n(A)+n(B)-n(A\\cap B)$\n",
    "\n",
    "$n(A\\cup B\\cup C) = n(A)+n(B)+ n(C)-n(A\\cap B)-n(A\\cap C)-n(B\\cap C)+n(A\\cap B\\cap C)$\n",
    "\n",
    "Here when we add A and B we are adding (AnB) two times , as it is present in both A and B. So we subtract (AnB) one time from A and B."
   ]
  },
  {
   "cell_type": "markdown",
   "metadata": {},
   "source": [
    "# Binomial Expansions:\n",
    "term in $x^r$ = $n\\choose r$ $a^{n-r}$ $b^r$"
   ]
  },
  {
   "cell_type": "markdown",
   "metadata": {},
   "source": [
    "# HW 3\n",
    "\n"
   ]
  },
  {
   "cell_type": "markdown",
   "metadata": {},
   "source": [
    "### <span style=\"color:red\">Question 1:</span>\n",
    "Your wardrobe consists of 4 shirts, 2 pairs of pants, and 18 bow ties. How many different outfits can you make?\n",
    "\n",
    "You can make __ outfits.\n",
    "\n",
    "There are $4*2*18=144$ outfits. Use the multiplicative principle."
   ]
  },
  {
   "cell_type": "markdown",
   "metadata": {},
   "source": [
    "### <span style=\"color:red\">Question 2:</span>\n",
    "\n",
    "For your college interview, you must wear a tie. You own 2 regular (boring) ties and 8 (cool) bow ties.\n",
    "\n",
    "A) How many choices do you have for your neck-wear?\n",
    "\n",
    "$2+8=10$ ties. Use the additive principle.\n",
    "\n",
    "B) You realize that the interview is for clown college, so you should probably wear both a regular tie and a bow tie. How many choices do you have now?\n",
    "\n",
    "$2*8=16$ ties. Use the multiplicative principle\n",
    "\n",
    "C) For the rest of your outfit, you have 7 shirts, 5 skirts, 6 pants, and 8 dresses. You want to select either a shirt to wear with a skirt or pants, or just a dress. How many outfits do you have to choose from?\n",
    "\n",
    "$7*(5+6)+8=42$ outfits.\n"
   ]
  },
  {
   "cell_type": "markdown",
   "metadata": {},
   "source": [
    "### <span style=\"color:red\">Question 3:</span>\n",
    "\n",
    "We usually write numbers in decimal form (or base 10), meaning numbers are composed using 10 different “digits” $\\{0,1,…,9\\}$. Sometimes though it is useful to write numbers hexadecimal or base 16. Now there are 16 distinct digits that can be used to form numbers: $\\{0,1,…,9,A,B,C,D,E,F\\}$. So for example, a 3 digit hexadecimal number might be 2B8.\n",
    "\n",
    "A) How many 6-digit hexadecimals are there in which the first digit is E or F?\n",
    "\n",
    "Here is our graphic showing the possibilities for each spot:\n",
    "$$\\frac{2}{1st} *\\frac{16}{2nd}*\\frac{16}{3rd}...*\\frac{16}{6th}$$\n",
    "\n",
    "$$OR$$ \n",
    "\n",
    "$$2*16^5=2,097,152$$\n",
    "\n",
    "Since the first slot can only be E or F there are only 2 options. Each of the other 5 digits can be any of the 16 valid hexadecimal characters.\n",
    "\n",
    "B) How many 3-digit hexadecimals start with a letter (A-F) and end with a numeral (0-9)?\n",
    "\n",
    "Here is our graphic showing the possibilities for each spot:\n",
    "\n",
    "$$\\frac{6}{1st}*\\frac{16}{2nd}*\\frac{6}{3rd}$$\n",
    "\n",
    "$$OR$$\n",
    "\n",
    "$$6*16*10=960$$\n",
    "\n",
    "The first slot only has 6 options (A-F), the second slot can be anything from (0-9 or A-F), and the third slot has 10 options (0-9)\n",
    "\n",
    "C) How many 5-digit hexadecimals start with a letter (A-F) or end with a numeral (0-9) (or both)?\n",
    "\n",
    "Here is our graphic showing the possibilities for each spot where the hexadecimal number starts with a letter (A-F):\n",
    "\n",
    "$$\\frac{6}{1st} *\\frac{16}{2nd}*\\frac{16}{3rd}*\\frac{16}{4th}*\\frac{16}{5th}$$\n",
    "\n",
    "$$OR$$\n",
    "\n",
    "$$6*16^4 = 393216$$\n",
    "\n",
    "The first slot only has 6 options (A-F), the other 4 slots can be any of the 16 valid hexadecimal characters.\n",
    "\n",
    "Here is our graphic showing the possibilities for each spot where the hexadecimal number ends with a number (0-9):\n",
    "\n",
    "$$\\frac{16}{1st} *\\frac{16}{2nd}*\\frac{16}{3rd}*\\frac{16}{4th}*\\frac{10}{5th}$$\n",
    "\n",
    "$$OR$$\n",
    "\n",
    "$${16^4}*10 = 655360$$\n",
    "\n",
    "The first 5 slots can be any of the 16 valid hexadecimal characters, the last slot has 10 options (0-9).\n",
    "\n",
    "We want all the elements from both these sets. However, both sets include those 5-digit hexadecimals which both start with a letter and end with a numeral $(6*{16^3}*10=245760)$ so we must subtract these (once). Thus the number of 5-digit hexadecimals starting with a letter or ending with a numeral is:\n",
    "\n",
    "\n",
    "$$PIE$$\n",
    "$$↓$$\n",
    "$$393216+655360−245760=802816$$\n",
    "\n"
   ]
  },
  {
   "cell_type": "markdown",
   "metadata": {},
   "source": [
    "### <span style=\"color:red\">Question 4:</span>\n",
    "\n",
    "Suppose you have sets A and B with |A|=13 and |B|=20.\n",
    "\n",
    "What is the largest possible value for $|A\\cap B|$?\n",
    "\n",
    "To maximize the number of elements in common between A and B, make $A\\subset B$. This would give $|A\\cap B|=13$.\n",
    "\n",
    "What is the smallest possible value for $|A\\cap B|$?\n",
    "\n",
    "A and B might have no elements in common, giving  $|A\\cap B|=0$\n",
    "\n",
    "What are the possible values for $|A\\cap B|$?\n",
    "\n",
    " $13\\leq|A\\cap B|\\leq33$\n",
    "\n"
   ]
  },
  {
   "cell_type": "markdown",
   "metadata": {},
   "source": [
    "### <span style=\"color:red\">Question 4:</span>\n",
    "\n",
    "If $|A|=10 $ and $ |B|=11$, what is $|A\\cup B|+|A\\cap B|$?\n",
    "\n",
    "$\\renewcommand{\\bar}{\\overline}\\newcommand{\\card}[1]{\\left| #1 \\right|}\\card{A \\cup B} + \\card{A \\cap B} = {21}\\text{.}$ Use PIE: We know\n",
    "\n",
    "\n",
    "\n"
   ]
  },
  {
   "cell_type": "markdown",
   "metadata": {},
   "source": [
    "### <span style=\"color:red\">Question 5:</span>\n",
    "\n",
    "In a recent survey, 93 students reported whether they liked their potatoes Mashed, French-fried, or Twice-baked. 32 liked them mashed, 51 liked French fried, and 54 liked twice baked potatoes. Additionally, 18 students liked both mashed and fried potatoes, 28 liked French fries and twice baked potatoes, 26 liked mashed and baked, and 13 liked all three styles. How many students hate potatoes? Explain why your answer is correct.\n",
    "\n",
    "Using the principle of inclusion/exclusion, the number of students who like their potatoes in at least one of the ways described is\n",
    "\n",
    "$$\\displaystyle{32 + 51 + 54 -18 - 28 - 26 + 13 = {78}}$$\n",
    "\n",
    "Therefore there are 93−78=15 students who do not like potatoes. You can also do this problem with a Venn diagram.\n"
   ]
  }
 ],
 "metadata": {
  "interpreter": {
   "hash": "2be5faf79681da6f2a61fdfdd5405d65d042280f7fba6178067603e3a2925119"
  },
  "kernelspec": {
   "display_name": "Python 3 (ipykernel)",
   "language": "python",
   "name": "python3"
  },
  "language_info": {
   "codemirror_mode": {
    "name": "ipython",
    "version": 3
   },
   "file_extension": ".py",
   "mimetype": "text/x-python",
   "name": "python",
   "nbconvert_exporter": "python",
   "pygments_lexer": "ipython3",
   "version": "3.10.2"
  }
 },
 "nbformat": 4,
 "nbformat_minor": 2
}
